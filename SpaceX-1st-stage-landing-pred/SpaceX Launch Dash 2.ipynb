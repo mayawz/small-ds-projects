{
 "cells": [
  {
   "cell_type": "markdown",
   "id": "a15e88a5-6ee5-408e-935d-2a7d864c36a0",
   "metadata": {},
   "source": [
    "# SpaceX Launch Dash"
   ]
  },
  {
   "cell_type": "code",
   "execution_count": 1,
   "id": "868abd5e-581d-43fa-a572-b6c0b9cc1c7c",
   "metadata": {},
   "outputs": [],
   "source": [
    "# !pip install jupyter-dash"
   ]
  },
  {
   "cell_type": "code",
   "execution_count": 2,
   "id": "314be73f-43d7-4d14-88cc-42738ed190f7",
   "metadata": {},
   "outputs": [],
   "source": [
    "# instead of import dash\n",
    "# use this in JupyterLab\n",
    "import pandas as pd\n",
    "import jupyter_dash\n",
    "import dash\n",
    "from dash import html\n",
    "# import dash_html_components as html\n",
    "from dash import dcc\n",
    "# import dash_core_components as dcc\n",
    "from dash.dependencies import Input, Output\n",
    "import plotly.express as px"
   ]
  },
  {
   "cell_type": "code",
   "execution_count": 3,
   "id": "eefcd356-174b-4cd2-93be-4c13f61a7e59",
   "metadata": {},
   "outputs": [],
   "source": [
    "# download dataset as spacex_launch_dash.csv\n",
    "# !wget \"https://cf-courses-data.s3.us.cloud-object-storage.appdomain.cloud/IBM-DS0321EN-SkillsNetwork/datasets/spacex_launch_dash.csv\""
   ]
  },
  {
   "cell_type": "code",
   "execution_count": 4,
   "id": "ce23f7ce-9adc-4d77-84b4-20126b0f1e75",
   "metadata": {},
   "outputs": [],
   "source": [
    "# !wget \"https://cf-courses-data.s3.us.cloud-object-storage.appdomain.cloud/IBM-DS0321EN-SkillsNetwork/labs/module_3/spacex_dash_app.py\""
   ]
  },
  {
   "cell_type": "code",
   "execution_count": 5,
   "id": "ebf6439f-708d-4608-a967-871822310a1f",
   "metadata": {},
   "outputs": [],
   "source": [
    "# Read the data into pandas dataframe\n",
    "spacex_df = pd.read_csv(\"spacex_launch_dash.csv\")\n",
    "max_payload = spacex_df['Payload Mass (kg)'].max()\n",
    "min_payload = spacex_df['Payload Mass (kg)'].min()"
   ]
  },
  {
   "cell_type": "code",
   "execution_count": 6,
   "id": "13096585-f96f-43b7-916d-b00fb285db16",
   "metadata": {},
   "outputs": [],
   "source": [
    "# Create a dash application\n",
    "app = jupyter_dash.JupyterDash(__name__)\n",
    "# instead of app = dash.Dash(__name__) in standard dash\n",
    "\n",
    "# Clear the layout and do not display exception till callback gets executed\n",
    "app.config.suppress_callback_exceptions = True"
   ]
  },
  {
   "cell_type": "code",
   "execution_count": 7,
   "id": "70b390b6-38d7-4e34-b08e-da461c31087b",
   "metadata": {},
   "outputs": [],
   "source": [
    "# get launch sites and put into dictionary for constructor\n",
    "\n",
    "launch_sites = spacex_df['Launch Site'].unique()\n",
    "\n",
    "options_dict = [{'label': 'ALL',  'value': 'ALL'},]\n",
    "for site in launch_sites:\n",
    "    dict_launches= {'label': site,  'value': site}\n",
    "    options_dict.append(dict_launches)"
   ]
  },
  {
   "cell_type": "code",
   "execution_count": 8,
   "id": "9512a226-bcdb-4e80-aceb-81307466d1ed",
   "metadata": {},
   "outputs": [],
   "source": [
    "# Create an app layout\n",
    "app.layout = html.Div(children=[html.H1('SpaceX Launch Records Dashboard',\n",
    "                                        style={'textAlign': 'center', 'color': '#503D36',\n",
    "                                               'font-size': 40}),\n",
    "                                # Add a dropdown list to enable Launch Site selection\n",
    "                                # The default select value is for ALL sites\n",
    "                                # dcc.Dropdown(id='site-dropdown',...)\n",
    "                                 dcc.Dropdown(id='site-dropdown',\n",
    "                                    options= options_dict,\n",
    "                                    value='ALL',\n",
    "                                    placeholder=\"Select a Launch Site here\",\n",
    "                                    searchable=True\n",
    "                                    ),\n",
    "                                html.Br(),\n",
    "\n",
    "                                # TASK 2: Add a pie chart to show the total successful launches count for all sites\n",
    "                                # If a specific launch site was selected, show the Success vs. Failed counts for the site\n",
    "                                html.Div(dcc.Graph(id='success-pie-chart')),\n",
    "                                html.Br(),\n",
    "\n",
    "\n",
    "                                 # return the outcomes piechart for a selected site\n",
    "                                html.P(\"Payload range (Kg):\"),\n",
    "                                # Add a slider to select payload range\n",
    "                                #dcc.RangeSlider(id='payload-slider',...)\n",
    "                                dcc.RangeSlider(id='payload-slider',\n",
    "                                    min=0, max=10000, step=1000,\n",
    "                                    marks={0: '0',\n",
    "                                        100: '100'},\n",
    "                                    value=[min_payload, max_payload]),\n",
    "                                \n",
    "                                # Add a scatter chart to show the correlation between payload and launch success\n",
    "                                html.Div(dcc.Graph(id='success-payload-scatter-chart')),\n",
    "                                ])"
   ]
  },
  {
   "cell_type": "code",
   "execution_count": 9,
   "id": "3daac0a2-8fe1-4852-aa67-c6c568e3d0c2",
   "metadata": {},
   "outputs": [],
   "source": [
    "class_names = ['Failure','Success']"
   ]
  },
  {
   "cell_type": "code",
   "execution_count": 10,
   "id": "788e2c29-5cfa-4aba-8b2d-c11142ebd438",
   "metadata": {},
   "outputs": [],
   "source": [
    "# Add a callback function for `site-dropdown` as input, `success-pie-chart` as output\n",
    "@app.callback(Output(component_id='success-pie-chart', component_property='figure'),\n",
    "            Input(component_id='site-dropdown', component_property='value'))\n",
    "        \n",
    "def get_pie_chart(l_site):\n",
    "    \n",
    "    filtered_df= spacex_df[['Launch Site','class']]\n",
    "  \n",
    "    if l_site == 'ALL':\n",
    "        fig = px.pie(filtered_df, values='class', \n",
    "        names='Launch Site', \n",
    "        title=l_site)\n",
    "        return fig\n",
    "    else: \n",
    "        count_values =[len(filtered_df.loc[(filtered_df['Launch Site'] == l_site) & (filtered_df['class']==0)]), len(filtered_df.loc[(filtered_df['Launch Site'] == l_site) & (filtered_df['class']==1)])]\n",
    "        fig = px.pie(filtered_df.loc[filtered_df['Launch Site'] == l_site], values= count_values,\n",
    "        names = class_names,\n",
    "        title= l_site)\n",
    "        return fig\n"
   ]
  },
  {
   "cell_type": "code",
   "execution_count": 11,
   "id": "28f3c346-64a9-40c7-9445-38c1a4d3a7a2",
   "metadata": {},
   "outputs": [],
   "source": [
    "@app.callback(Output(component_id='success-payload-scatter-chart', component_property='figure'),\n",
    "                Input(component_id='site-dropdown', component_property='value'),\n",
    "                Input(component_id='payload-slider', component_property='value'))\n",
    "def get_scatter_chart(l_site,value):\n",
    "    \n",
    "    filtered_df2= spacex_df[['Launch Site','class','Payload Mass (kg)','Booster Version Category']]\n",
    "\n",
    "    if l_site == 'ALL':\n",
    "        fig = px.scatter(spacex_df.loc[spacex_df['Payload Mass (kg)'].between(value[0],value[1])], x = 'Payload Mass (kg)', y = 'class' ,color=\"Booster Version Category\")\n",
    "        return fig\n",
    "    else:\n",
    "                \n",
    "        fig = px.scatter(spacex_df.loc[(spacex_df['Launch Site'] == l_site) & (spacex_df['Payload Mass (kg)'].between(value[0],value[1]))], x = 'Payload Mass (kg)', y = 'class' ,color=\"Booster Version Category\")\n",
    "        return fig"
   ]
  },
  {
   "cell_type": "code",
   "execution_count": 12,
   "id": "66d7766a-55fb-48e1-8ceb-1bf58a9383cb",
   "metadata": {},
   "outputs": [
    {
     "data": {
      "text/html": [
       "\n",
       "        <iframe\n",
       "            width=\"100%\"\n",
       "            height=\"650\"\n",
       "            src=\"http://127.0.0.1:8050/\"\n",
       "            frameborder=\"0\"\n",
       "            allowfullscreen\n",
       "            \n",
       "        ></iframe>\n",
       "        "
      ],
      "text/plain": [
       "<IPython.lib.display.IFrame at 0x7fba38913d60>"
      ]
     },
     "metadata": {},
     "output_type": "display_data"
    }
   ],
   "source": [
    "# Run the app\n",
    "if __name__ == '__main__':\n",
    "    # app.run_server()\n",
    "    app.run_server(mode=\"inline\")"
   ]
  },
  {
   "cell_type": "code",
   "execution_count": null,
   "id": "0be66197-805b-44b2-a555-5603ab8465cd",
   "metadata": {},
   "outputs": [],
   "source": []
  },
  {
   "cell_type": "code",
   "execution_count": null,
   "id": "1cadd8bc-f61b-4637-96ba-71fedba3aba7",
   "metadata": {},
   "outputs": [],
   "source": []
  },
  {
   "cell_type": "code",
   "execution_count": null,
   "id": "3577a8ff-9707-4f37-9dbe-598993290441",
   "metadata": {},
   "outputs": [],
   "source": []
  },
  {
   "cell_type": "code",
   "execution_count": null,
   "id": "ac884471-0880-4960-8e4d-ad15b7573430",
   "metadata": {},
   "outputs": [],
   "source": []
  },
  {
   "cell_type": "code",
   "execution_count": null,
   "id": "07770e11-d181-4f14-8797-9dd1b930a6fd",
   "metadata": {},
   "outputs": [],
   "source": []
  }
 ],
 "metadata": {
  "kernelspec": {
   "display_name": "Python 3 (ipykernel)",
   "language": "python",
   "name": "python3"
  },
  "language_info": {
   "codemirror_mode": {
    "name": "ipython",
    "version": 3
   },
   "file_extension": ".py",
   "mimetype": "text/x-python",
   "name": "python",
   "nbconvert_exporter": "python",
   "pygments_lexer": "ipython3",
   "version": "3.10.4"
  }
 },
 "nbformat": 4,
 "nbformat_minor": 5
}
